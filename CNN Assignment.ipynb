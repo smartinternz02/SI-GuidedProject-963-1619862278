{
 "cells": [
  {
   "cell_type": "code",
   "execution_count": 1,
   "metadata": {},
   "outputs": [],
   "source": [
    "from tensorflow.keras.models import Sequential\n",
    "from tensorflow.keras.layers import Dense\n",
    "from tensorflow.keras.layers import Convolution2D\n",
    "from tensorflow.keras.layers import MaxPooling2D\n",
    "from tensorflow.keras.layers import Flatten"
   ]
  },
  {
   "cell_type": "code",
   "execution_count": 2,
   "metadata": {},
   "outputs": [
    {
     "name": "stderr",
     "output_type": "stream",
     "text": [
      "Using TensorFlow backend.\n"
     ]
    }
   ],
   "source": [
    "from keras.preprocessing.image import ImageDataGenerator\n",
    "train_datagen = ImageDataGenerator(rescale = 1./255,shear_range = 0.2,zoom_range = 0.2,horizontal_flip = True)\n",
    "test_datagen = ImageDataGenerator(rescale = 1./255)"
   ]
  },
  {
   "cell_type": "code",
   "execution_count": 3,
   "metadata": {},
   "outputs": [
    {
     "name": "stdout",
     "output_type": "stream",
     "text": [
      "Found 1495 images belonging to 5 classes.\n",
      "Found 640 images belonging to 5 classes.\n"
     ]
    }
   ],
   "source": [
    "x_train = train_datagen.flow_from_directory(r\"C:\\Users\\user\\Desktop\\Externship\\Crop-animal data\\trainset\",target_size = (64,64),batch_size = 32,class_mode = \"categorical\")\n",
    "x_test = test_datagen.flow_from_directory(r\"C:\\Users\\user\\Desktop\\Externship\\Crop-animal data\\testset\",target_size = (64,64),batch_size = 32,class_mode = \"categorical\")\n"
   ]
  },
  {
   "cell_type": "code",
   "execution_count": 4,
   "metadata": {},
   "outputs": [
    {
     "data": {
      "text/plain": [
       "{'bears': 0, 'crows': 1, 'elephants': 2, 'racoons': 3, 'rats': 4}"
      ]
     },
     "execution_count": 4,
     "metadata": {},
     "output_type": "execute_result"
    }
   ],
   "source": [
    "x_train.class_indices"
   ]
  },
  {
   "cell_type": "code",
   "execution_count": 5,
   "metadata": {},
   "outputs": [],
   "source": [
    "model = Sequential()"
   ]
  },
  {
   "cell_type": "code",
   "execution_count": 6,
   "metadata": {},
   "outputs": [
    {
     "name": "stdout",
     "output_type": "stream",
     "text": [
      "WARNING:tensorflow:From C:\\Users\\user\\Anaconda3\\lib\\site-packages\\tensorflow\\python\\ops\\init_ops.py:1251: calling VarianceScaling.__init__ (from tensorflow.python.ops.init_ops) with dtype is deprecated and will be removed in a future version.\n",
      "Instructions for updating:\n",
      "Call initializer instance with the dtype argument instead of passing it to the constructor\n"
     ]
    }
   ],
   "source": [
    "model.add(Convolution2D(32,(3,3),input_shape = (64,64,3),activation = \"relu\"))"
   ]
  },
  {
   "cell_type": "code",
   "execution_count": 8,
   "metadata": {},
   "outputs": [],
   "source": [
    "model.add(MaxPooling2D(pool_size = (2,2)))"
   ]
  },
  {
   "cell_type": "code",
   "execution_count": 12,
   "metadata": {},
   "outputs": [],
   "source": [
    "model.add(Flatten())"
   ]
  },
  {
   "cell_type": "code",
   "execution_count": 15,
   "metadata": {},
   "outputs": [
    {
     "name": "stdout",
     "output_type": "stream",
     "text": [
      "WARNING:tensorflow:From C:\\Users\\user\\Anaconda3\\lib\\site-packages\\tensorflow\\python\\keras\\initializers.py:119: calling RandomUniform.__init__ (from tensorflow.python.ops.init_ops) with dtype is deprecated and will be removed in a future version.\n",
      "Instructions for updating:\n",
      "Call initializer instance with the dtype argument instead of passing it to the constructor\n"
     ]
    }
   ],
   "source": [
    "model.add(Dense(units = 512,activation = \"relu\",kernel_initializer = \"random_uniform\"))"
   ]
  },
  {
   "cell_type": "code",
   "execution_count": 16,
   "metadata": {},
   "outputs": [],
   "source": [
    "model.add(Dense(units = 512,activation = \"relu\",kernel_initializer = \"random_uniform\"))"
   ]
  },
  {
   "cell_type": "code",
   "execution_count": 17,
   "metadata": {},
   "outputs": [],
   "source": [
    "model.add(Dense(units = 5,activation = \"softmax\",kernel_initializer = \"random_uniform\"))"
   ]
  },
  {
   "cell_type": "code",
   "execution_count": 18,
   "metadata": {},
   "outputs": [],
   "source": [
    "model.compile(loss = \"categorical_crossentropy\",optimizer = \"adam\", metrics = [\"accuracy\"])"
   ]
  },
  {
   "cell_type": "code",
   "execution_count": 19,
   "metadata": {},
   "outputs": [
    {
     "name": "stdout",
     "output_type": "stream",
     "text": [
      "Epoch 1/25\n",
      "47/47 [==============================] - 46s 976ms/step - loss: 1.4990 - acc: 0.3619 - val_loss: 1.1427 - val_acc: 0.5172\n",
      "Epoch 2/25\n",
      "47/47 [==============================] - 21s 447ms/step - loss: 1.1411 - acc: 0.5625 - val_loss: 0.8341 - val_acc: 0.6875\n",
      "Epoch 3/25\n",
      "47/47 [==============================] - 19s 402ms/step - loss: 0.8757 - acc: 0.6803 - val_loss: 0.7953 - val_acc: 0.6734\n",
      "Epoch 4/25\n",
      "47/47 [==============================] - 26s 561ms/step - loss: 0.7938 - acc: 0.7090 - val_loss: 0.8814 - val_acc: 0.6047\n",
      "Epoch 5/25\n",
      "47/47 [==============================] - 24s 514ms/step - loss: 0.6533 - acc: 0.7605 - val_loss: 0.4873 - val_acc: 0.8359\n",
      "Epoch 6/25\n",
      "47/47 [==============================] - 19s 405ms/step - loss: 0.5996 - acc: 0.7699 - val_loss: 0.5079 - val_acc: 0.8000\n",
      "Epoch 7/25\n",
      "47/47 [==============================] - 18s 383ms/step - loss: 0.4868 - acc: 0.8281 - val_loss: 0.4245 - val_acc: 0.8344\n",
      "Epoch 8/25\n",
      "47/47 [==============================] - 19s 405ms/step - loss: 0.4236 - acc: 0.8515 - val_loss: 0.4783 - val_acc: 0.7984\n",
      "Epoch 9/25\n",
      "47/47 [==============================] - 20s 423ms/step - loss: 0.3471 - acc: 0.8729 - val_loss: 0.1775 - val_acc: 0.9266\n",
      "Epoch 10/25\n",
      "47/47 [==============================] - 20s 420ms/step - loss: 0.2738 - acc: 0.9077 - val_loss: 0.3858 - val_acc: 0.8500\n",
      "Epoch 11/25\n",
      "47/47 [==============================] - 19s 413ms/step - loss: 0.2381 - acc: 0.9184 - val_loss: 0.1779 - val_acc: 0.9344\n",
      "Epoch 12/25\n",
      "47/47 [==============================] - 20s 424ms/step - loss: 0.2288 - acc: 0.9231 - val_loss: 0.2540 - val_acc: 0.9156\n",
      "Epoch 13/25\n",
      "47/47 [==============================] - 20s 432ms/step - loss: 0.1978 - acc: 0.9385 - val_loss: 0.1700 - val_acc: 0.9312\n",
      "Epoch 14/25\n",
      "47/47 [==============================] - 21s 454ms/step - loss: 0.1818 - acc: 0.9371 - val_loss: 0.1768 - val_acc: 0.9359\n",
      "Epoch 15/25\n",
      "47/47 [==============================] - 19s 412ms/step - loss: 0.1753 - acc: 0.9478 - val_loss: 0.2176 - val_acc: 0.9266\n",
      "Epoch 16/25\n",
      "47/47 [==============================] - 20s 434ms/step - loss: 0.1389 - acc: 0.9545 - val_loss: 0.0455 - val_acc: 0.9859\n",
      "Epoch 17/25\n",
      "47/47 [==============================] - 19s 406ms/step - loss: 0.1249 - acc: 0.9565 - val_loss: 0.1567 - val_acc: 0.9312\n",
      "Epoch 18/25\n",
      "47/47 [==============================] - 19s 398ms/step - loss: 0.1161 - acc: 0.9652 - val_loss: 0.0315 - val_acc: 0.9891\n",
      "Epoch 19/25\n",
      "47/47 [==============================] - 19s 413ms/step - loss: 0.1208 - acc: 0.9592 - val_loss: 0.0682 - val_acc: 0.9844\n",
      "Epoch 20/25\n",
      "47/47 [==============================] - 23s 482ms/step - loss: 0.0971 - acc: 0.9679 - val_loss: 0.4329 - val_acc: 0.8609\n",
      "Epoch 21/25\n",
      "47/47 [==============================] - 21s 456ms/step - loss: 0.0903 - acc: 0.9686 - val_loss: 0.0269 - val_acc: 0.9906\n",
      "Epoch 22/25\n",
      "47/47 [==============================] - 20s 416ms/step - loss: 0.0662 - acc: 0.9773 - val_loss: 0.0277 - val_acc: 0.9922\n",
      "Epoch 23/25\n",
      "47/47 [==============================] - 19s 415ms/step - loss: 0.0582 - acc: 0.9853 - val_loss: 0.0690 - val_acc: 0.9844\n",
      "Epoch 24/25\n",
      "47/47 [==============================] - 19s 408ms/step - loss: 0.0971 - acc: 0.9719 - val_loss: 0.0224 - val_acc: 0.9906\n",
      "Epoch 25/25\n",
      "47/47 [==============================] - 18s 388ms/step - loss: 0.0806 - acc: 0.9732 - val_loss: 0.0531 - val_acc: 0.9812\n"
     ]
    },
    {
     "data": {
      "text/plain": [
       "<tensorflow.python.keras.callbacks.History at 0x29dd1151a58>"
      ]
     },
     "execution_count": 19,
     "metadata": {},
     "output_type": "execute_result"
    }
   ],
   "source": [
    "model.fit_generator(x_train,steps_per_epoch = 47,epochs = 25,validation_data = x_test, validation_steps = 20)"
   ]
  },
  {
   "cell_type": "code",
   "execution_count": 21,
   "metadata": {},
   "outputs": [],
   "source": [
    "model.save(\"animal1.h5\")"
   ]
  },
  {
   "cell_type": "code",
   "execution_count": null,
   "metadata": {},
   "outputs": [],
   "source": []
  }
 ],
 "metadata": {
  "kernelspec": {
   "display_name": "Python 3",
   "language": "python",
   "name": "python3"
  },
  "language_info": {
   "codemirror_mode": {
    "name": "ipython",
    "version": 3
   },
   "file_extension": ".py",
   "mimetype": "text/x-python",
   "name": "python",
   "nbconvert_exporter": "python",
   "pygments_lexer": "ipython3",
   "version": "3.7.3"
  }
 },
 "nbformat": 4,
 "nbformat_minor": 2
}
